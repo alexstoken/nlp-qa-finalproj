{
 "cells": [
  {
   "cell_type": "markdown",
   "id": "619bbd88-2d57-46ca-a5a9-75a8af89acef",
   "metadata": {},
   "source": [
    "## Testing NMT models and using NMT on NewsQA Dataset"
   ]
  },
  {
   "cell_type": "markdown",
   "id": "f646bd35-6481-42c9-93db-749c91a17386",
   "metadata": {},
   "source": [
    "Source: https://pytorch.org/hub/pytorch_fairseq_translation/"
   ]
  },
  {
   "cell_type": "code",
   "execution_count": 40,
   "id": "53c8f023-64aa-4d0c-8099-d28ba21fb626",
   "metadata": {
    "execution": {
     "iopub.execute_input": "2021-05-03T03:51:48.675837Z",
     "iopub.status.busy": "2021-05-03T03:51:48.675612Z",
     "iopub.status.idle": "2021-05-03T03:51:48.770397Z",
     "shell.execute_reply": "2021-05-03T03:51:48.769708Z",
     "shell.execute_reply.started": "2021-05-03T03:51:48.675816Z"
    },
    "tags": []
   },
   "outputs": [
    {
     "name": "stdout",
     "output_type": "stream",
     "text": [
      "The autoreload extension is already loaded. To reload it, use:\n",
      "  %reload_ext autoreload\n"
     ]
    }
   ],
   "source": [
    "import torch\n",
    "from data import *\n",
    "from typing import *\n",
    "from argparse import Namespace\n",
    "import time\n",
    "import matplotlib.pyplot as plt\n",
    "\n",
    "%load_ext autoreload\n",
    "%autoreload 2"
   ]
  },
  {
   "cell_type": "code",
   "execution_count": 2,
   "id": "c5636c60-d63e-4eb1-a670-46656e78c80f",
   "metadata": {
    "execution": {
     "iopub.execute_input": "2021-05-03T02:11:09.868991Z",
     "iopub.status.busy": "2021-05-03T02:11:09.868762Z",
     "iopub.status.idle": "2021-05-03T02:11:10.815068Z",
     "shell.execute_reply": "2021-05-03T02:11:10.814443Z",
     "shell.execute_reply.started": "2021-05-03T02:11:09.868967Z"
    },
    "tags": []
   },
   "outputs": [
    {
     "name": "stderr",
     "output_type": "stream",
     "text": [
      "Using cache found in /Users/alexstoken/.cache/torch/hub/pytorch_fairseq_master\n"
     ]
    },
    {
     "data": {
      "text/plain": [
       "['bart.base',\n",
       " 'bart.large',\n",
       " 'bart.large.cnn',\n",
       " 'bart.large.mnli',\n",
       " 'bart.large.xsum',\n",
       " 'bpe',\n",
       " 'camembert',\n",
       " 'camembert-base',\n",
       " 'camembert-base-ccnet',\n",
       " 'camembert-base-ccnet-4gb',\n",
       " 'camembert-base-oscar-4gb',\n",
       " 'camembert-base-wikipedia-4gb',\n",
       " 'camembert-large',\n",
       " 'camembert.v0',\n",
       " 'conv.stories',\n",
       " 'conv.stories.pretrained',\n",
       " 'conv.wmt14.en-de',\n",
       " 'conv.wmt14.en-fr',\n",
       " 'conv.wmt17.en-de',\n",
       " 'data.stories',\n",
       " 'dynamicconv.glu.wmt14.en-fr',\n",
       " 'dynamicconv.glu.wmt16.en-de',\n",
       " 'dynamicconv.glu.wmt17.en-de',\n",
       " 'dynamicconv.glu.wmt17.zh-en',\n",
       " 'dynamicconv.no_glu.iwslt14.de-en',\n",
       " 'dynamicconv.no_glu.wmt16.en-de',\n",
       " 'gottbert-base',\n",
       " 'lightconv.glu.wmt14.en-fr',\n",
       " 'lightconv.glu.wmt16.en-de',\n",
       " 'lightconv.glu.wmt17.en-de',\n",
       " 'lightconv.glu.wmt17.zh-en',\n",
       " 'lightconv.no_glu.iwslt14.de-en',\n",
       " 'lightconv.no_glu.wmt16.en-de',\n",
       " 'roberta.base',\n",
       " 'roberta.large',\n",
       " 'roberta.large.mnli',\n",
       " 'roberta.large.wsc',\n",
       " 'tokenizer',\n",
       " 'transformer.flores101.mm100.175M',\n",
       " 'transformer.flores101.mm100.615M',\n",
       " 'transformer.wmt14.en-fr',\n",
       " 'transformer.wmt16.en-de',\n",
       " 'transformer.wmt18.en-de',\n",
       " 'transformer.wmt19.de-en',\n",
       " 'transformer.wmt19.de-en.single_model',\n",
       " 'transformer.wmt19.en-de',\n",
       " 'transformer.wmt19.en-de.single_model',\n",
       " 'transformer.wmt19.en-ru',\n",
       " 'transformer.wmt19.en-ru.single_model',\n",
       " 'transformer.wmt19.ru-en',\n",
       " 'transformer.wmt19.ru-en.single_model',\n",
       " 'transformer.wmt20.en-iu.news',\n",
       " 'transformer.wmt20.en-iu.nh',\n",
       " 'transformer.wmt20.en-ta',\n",
       " 'transformer.wmt20.iu-en.news',\n",
       " 'transformer.wmt20.iu-en.nh',\n",
       " 'transformer.wmt20.ta-en',\n",
       " 'transformer_lm.gbw.adaptive_huge',\n",
       " 'transformer_lm.wiki103.adaptive',\n",
       " 'transformer_lm.wmt19.de',\n",
       " 'transformer_lm.wmt19.en',\n",
       " 'transformer_lm.wmt19.ru',\n",
       " 'transformer_lm.wmt20.en',\n",
       " 'transformer_lm.wmt20.iu.news',\n",
       " 'transformer_lm.wmt20.iu.nh',\n",
       " 'transformer_lm.wmt20.ta',\n",
       " 'xlmr.base',\n",
       " 'xlmr.large']"
      ]
     },
     "execution_count": 2,
     "metadata": {},
     "output_type": "execute_result"
    }
   ],
   "source": [
    "torch.hub.list('pytorch/fairseq')"
   ]
  },
  {
   "cell_type": "code",
   "execution_count": 3,
   "id": "196c1693-70ae-4d39-b2c0-05d925355b92",
   "metadata": {
    "execution": {
     "iopub.execute_input": "2021-05-03T02:11:11.534037Z",
     "iopub.status.busy": "2021-05-03T02:11:11.533686Z",
     "iopub.status.idle": "2021-05-03T02:11:34.846878Z",
     "shell.execute_reply": "2021-05-03T02:11:34.846020Z",
     "shell.execute_reply.started": "2021-05-03T02:11:11.534002Z"
    },
    "tags": []
   },
   "outputs": [
    {
     "name": "stderr",
     "output_type": "stream",
     "text": [
      "Using cache found in /Users/alexstoken/.cache/torch/hub/pytorch_fairseq_master\n",
      "Using cache found in /Users/alexstoken/.cache/torch/hub/pytorch_fairseq_master\n"
     ]
    }
   ],
   "source": [
    "# Round-trip translations between English and German:\n",
    "en2de = torch.hub.load('pytorch/fairseq', 'transformer.wmt19.en-de.single_model', tokenizer='moses', bpe='fastbpe')\n",
    "de2en = torch.hub.load('pytorch/fairseq', 'transformer.wmt19.de-en.single_model', tokenizer='moses', bpe='fastbpe')"
   ]
  },
  {
   "cell_type": "code",
   "execution_count": 4,
   "id": "473e80e6-24fc-48a4-b441-404999af6104",
   "metadata": {
    "execution": {
     "iopub.execute_input": "2021-05-03T02:11:34.851438Z",
     "iopub.status.busy": "2021-05-03T02:11:34.850531Z",
     "iopub.status.idle": "2021-05-03T02:11:34.894291Z",
     "shell.execute_reply": "2021-05-03T02:11:34.893431Z",
     "shell.execute_reply.started": "2021-05-03T02:11:34.851401Z"
    },
    "tags": []
   },
   "outputs": [],
   "source": [
    "def backtranslate(sent, forward, backward):\n",
    "    \"\"\"\n",
    "    Parameters\n",
    "    ----------\n",
    "    sent (str): sentence to be backtranslated\n",
    "    forward (torch.nn): model to translate from langauge 1 to language 2\n",
    "    backward (torch.nn): model to translate from langauge 2 to langauge 1\n",
    "    \n",
    "    Return:\n",
    "    backtrans_sent: backtranslated sentence\n",
    "    \"\"\"\n",
    "    forward = forward.eval()\n",
    "    backward = backward.eval()\n",
    "    return backward.translate(forward.translate(sent))"
   ]
  },
  {
   "cell_type": "code",
   "execution_count": 5,
   "id": "5cc27132-b6a7-42be-b409-e0fab70f8423",
   "metadata": {
    "execution": {
     "iopub.execute_input": "2021-05-03T02:11:34.899370Z",
     "iopub.status.busy": "2021-05-03T02:11:34.897532Z",
     "iopub.status.idle": "2021-05-03T02:11:47.978968Z",
     "shell.execute_reply": "2021-05-03T02:11:47.978078Z",
     "shell.execute_reply.started": "2021-05-03T02:11:34.899334Z"
    },
    "tags": []
   },
   "outputs": [
    {
     "name": "stderr",
     "output_type": "stream",
     "text": [
      "                                                                      \r"
     ]
    },
    {
     "name": "stdout",
     "output_type": "stream",
     "text": [
      "Max number of answers in this dataset: 1\n"
     ]
    }
   ],
   "source": [
    "# Set up datasets\n",
    "dataset_args = {'num_answers':1,\n",
    "               'unique_samples':1,\n",
    "               'lowercase_passage': True,\n",
    "                'lowercase_question': True,\n",
    "                'max_context_length':1024,\n",
    "                'max_question_length':128,\n",
    "                'batch_size': 12,\n",
    "                'train_path':'datasets/newsqa_train.jsonl.gz'\n",
    "               }\n",
    "args = Namespace(**dataset_args)\n",
    "train_dataset = QADataset(args, args.train_path)"
   ]
  },
  {
   "cell_type": "code",
   "execution_count": 6,
   "id": "cef4f063-dd7a-4809-bc9d-9e09d3351e9d",
   "metadata": {
    "execution": {
     "iopub.execute_input": "2021-05-03T02:11:47.981909Z",
     "iopub.status.busy": "2021-05-03T02:11:47.981352Z",
     "iopub.status.idle": "2021-05-03T02:11:48.027838Z",
     "shell.execute_reply": "2021-05-03T02:11:48.026925Z",
     "shell.execute_reply.started": "2021-05-03T02:11:47.981876Z"
    },
    "tags": []
   },
   "outputs": [],
   "source": [
    "idx = 20"
   ]
  },
  {
   "cell_type": "code",
   "execution_count": 7,
   "id": "22040c36-92f6-4562-aa40-68457ddc7847",
   "metadata": {
    "execution": {
     "iopub.execute_input": "2021-05-03T02:11:48.029779Z",
     "iopub.status.busy": "2021-05-03T02:11:48.029218Z",
     "iopub.status.idle": "2021-05-03T02:11:48.094283Z",
     "shell.execute_reply": "2021-05-03T02:11:48.093552Z",
     "shell.execute_reply.started": "2021-05-03T02:11:48.029585Z"
    },
    "tags": []
   },
   "outputs": [],
   "source": [
    "sample = train_dataset.samples[idx]"
   ]
  },
  {
   "cell_type": "code",
   "execution_count": 8,
   "id": "26c3c882-d1ac-4a47-aee3-2eedb37f2725",
   "metadata": {
    "execution": {
     "iopub.execute_input": "2021-05-03T02:11:48.097970Z",
     "iopub.status.busy": "2021-05-03T02:11:48.096374Z",
     "iopub.status.idle": "2021-05-03T02:11:48.144789Z",
     "shell.execute_reply": "2021-05-03T02:11:48.144038Z",
     "shell.execute_reply.started": "2021-05-03T02:11:48.097874Z"
    },
    "tags": []
   },
   "outputs": [
    {
     "data": {
      "text/plain": [
       "['sgt', '.', 'michael', 'strank']"
      ]
     },
     "execution_count": 8,
     "metadata": {},
     "output_type": "execute_result"
    }
   ],
   "source": [
    "sample[1][sample[3]:sample[4]] # answer (sample paragraph from (start, end))"
   ]
  },
  {
   "cell_type": "code",
   "execution_count": 9,
   "id": "43775ba5-4ace-4bde-8734-0d0c7cd28692",
   "metadata": {
    "execution": {
     "iopub.execute_input": "2021-05-03T02:11:48.146758Z",
     "iopub.status.busy": "2021-05-03T02:11:48.146261Z",
     "iopub.status.idle": "2021-05-03T02:11:48.197216Z",
     "shell.execute_reply": "2021-05-03T02:11:48.195712Z",
     "shell.execute_reply.started": "2021-05-03T02:11:48.146724Z"
    },
    "tags": []
   },
   "outputs": [
    {
     "data": {
      "text/plain": [
       "'washington ( cnn ) -- one of the marines shown in a famous world war ii photograph raising the u.s. flag on iwo jima was posthumously awarded a certificate of u.s. citizenship on tuesday . the marine corps war memorial in virginia depicts strank and five others raising a flag on iwo jima . sgt . michael strank , who was born in czechoslovakia and came to the united states when he was 3 , derived u.s. citizenship when his father was naturalized in 1935 . however , u.s. citizenship and immigration services recently discovered that strank never was given citizenship papers . at a ceremony tuesday at the marine corps memorial -- which depicts the flag - raising -- in arlington , virginia , a certificate of citizenship was presented to strank \\'s younger sister , mary pero . strank and five other men became national icons when an associated press photographer captured the image of them planting an american flag on top of mount suribachi on february 23 , 1945 . strank was killed in action on the island on march 1 , 1945 , less than a month before the battle between japanese and u.s. forces there ended . jonathan scharfen , the acting director of cis , presented the citizenship certificate tuesday . he hailed strank as \" a true american hero and a wonderful example of the remarkable contribution and sacrifices that immigrants have made to our great republic throughout its history . \"'"
      ]
     },
     "execution_count": 9,
     "metadata": {},
     "output_type": "execute_result"
    }
   ],
   "source": [
    "' '.join(sample[1])"
   ]
  },
  {
   "cell_type": "code",
   "execution_count": 10,
   "id": "c58a1d87-15d5-4304-a044-f12b12ab442b",
   "metadata": {
    "execution": {
     "iopub.execute_input": "2021-05-03T02:11:48.204888Z",
     "iopub.status.busy": "2021-05-03T02:11:48.204678Z",
     "iopub.status.idle": "2021-05-03T02:12:31.682333Z",
     "shell.execute_reply": "2021-05-03T02:12:31.681427Z",
     "shell.execute_reply.started": "2021-05-03T02:11:48.204865Z"
    },
    "tags": []
   },
   "outputs": [
    {
     "name": "stdout",
     "output_type": "stream",
     "text": [
      "CPU times: user 40.2 s, sys: 4.68 s, total: 44.9 s\n",
      "Wall time: 43.4 s\n"
     ]
    },
    {
     "data": {
      "text/plain": [
       "\"washington (cnn) -- one of the marines featured in a famous World War II photograph raised the U.S. flag on iwo jima. sgt. michael strank, who was born in Czechoslovakia and came to the United States at the age of 3, was granted U.S. citizenship when his father was naturalized in 1935. nevertheless, citizenship and immigration authorities recently discovered that strank never received citizenship papers. strank and five other men became national icons when an associated press photographer presented a citizenship certificate to Strank's younger sister, mary pero, at the Marine Corps Memorial in Arlington, Virginia on Tuesday. strank and five other men became national icons\""
      ]
     },
     "execution_count": 10,
     "metadata": {},
     "output_type": "execute_result"
    }
   ],
   "source": [
    "%%time\n",
    "backtranslate(' '.join(sample[1]), en2de, de2en)"
   ]
  },
  {
   "cell_type": "code",
   "execution_count": 15,
   "id": "659d72c3-2e9a-4c51-8315-dc148bd1a737",
   "metadata": {
    "execution": {
     "iopub.execute_input": "2021-05-03T02:15:29.732046Z",
     "iopub.status.busy": "2021-05-03T02:15:29.731722Z",
     "iopub.status.idle": "2021-05-03T02:15:29.856624Z",
     "shell.execute_reply": "2021-05-03T02:15:29.855461Z",
     "shell.execute_reply.started": "2021-05-03T02:15:29.732015Z"
    },
    "tags": []
   },
   "outputs": [],
   "source": [
    "answer_len = []\n",
    "question_len = []\n",
    "passage_len = []\n",
    "for s in train_dataset.samples:\n",
    "    answer_len.append(s[4]-s[3])\n",
    "    question_len.append(len(s[2]))\n",
    "    passage_len.append(len(s[1]))"
   ]
  },
  {
   "cell_type": "code",
   "execution_count": 16,
   "id": "187231e7-1dff-48fe-9da8-fbca8737bdc9",
   "metadata": {
    "execution": {
     "iopub.execute_input": "2021-05-03T02:15:31.003898Z",
     "iopub.status.busy": "2021-05-03T02:15:31.003654Z",
     "iopub.status.idle": "2021-05-03T02:15:31.494406Z",
     "shell.execute_reply": "2021-05-03T02:15:31.493140Z",
     "shell.execute_reply.started": "2021-05-03T02:15:31.003873Z"
    },
    "tags": []
   },
   "outputs": [
    {
     "data": {
      "image/png": "[encoded data removed]",
      "text/plain": [
       "<Figure size 432x288 with 1 Axes>"
      ]
     },
     "metadata": {
      "needs_background": "light"
     },
     "output_type": "display_data"
    }
   ],
   "source": [
    "plt.hist(answer_len, range=(0,40))\n",
    "plt.xlabel('# of words')\n",
    "plt.ylabel('Samples')\n",
    "plt.title('Answer Length in Words');"
   ]
  },
  {
   "cell_type": "code",
   "execution_count": 21,
   "id": "285a6dbf-be76-42fe-94d0-3a70fac5139c",
   "metadata": {
    "execution": {
     "iopub.execute_input": "2021-05-03T02:16:09.361039Z",
     "iopub.status.busy": "2021-05-03T02:16:09.360812Z",
     "iopub.status.idle": "2021-05-03T02:16:09.924443Z",
     "shell.execute_reply": "2021-05-03T02:16:09.923109Z",
     "shell.execute_reply.started": "2021-05-03T02:16:09.361015Z"
    },
    "tags": []
   },
   "outputs": [
    {
     "data": {
      "image/png": "[encoded data removed]",
      "text/plain": [
       "<Figure size 432x288 with 1 Axes>"
      ]
     },
     "metadata": {
      "needs_background": "light"
     },
     "output_type": "display_data"
    }
   ],
   "source": [
    "plt.hist(question_len, range=(0,40))\n",
    "plt.xlabel('# of words')\n",
    "plt.ylabel('Samples')\n",
    "plt.title('Question Length in Words');"
   ]
  },
  {
   "cell_type": "code",
   "execution_count": 22,
   "id": "1e12d6d2-a5f5-44a3-b204-91da59c211b1",
   "metadata": {
    "execution": {
     "iopub.execute_input": "2021-05-03T02:17:57.404965Z",
     "iopub.status.busy": "2021-05-03T02:17:57.404429Z",
     "iopub.status.idle": "2021-05-03T02:17:58.233889Z",
     "shell.execute_reply": "2021-05-03T02:17:58.232514Z",
     "shell.execute_reply.started": "2021-05-03T02:17:57.404918Z"
    },
    "tags": []
   },
   "outputs": [
    {
     "data": {
      "image/png": "[encoded data removed]",
      "text/plain": [
       "<Figure size 432x288 with 1 Axes>"
      ]
     },
     "metadata": {
      "needs_background": "light"
     },
     "output_type": "display_data"
    }
   ],
   "source": [
    "plt.hist(passage_len)\n",
    "plt.xlabel('# of words')\n",
    "plt.ylabel('Samples')\n",
    "plt.title('Passage Length in Words');"
   ]
  },
  {
   "cell_type": "code",
   "execution_count": 24,
   "id": "058ce343-de0b-4d97-9110-5eb104a470bc",
   "metadata": {
    "execution": {
     "iopub.execute_input": "2021-05-03T02:53:22.569430Z",
     "iopub.status.busy": "2021-05-03T02:53:22.569209Z",
     "iopub.status.idle": "2021-05-03T02:53:22.666861Z",
     "shell.execute_reply": "2021-05-03T02:53:22.649122Z",
     "shell.execute_reply.started": "2021-05-03T02:53:22.569407Z"
    },
    "tags": []
   },
   "outputs": [
    {
     "data": {
      "text/plain": [
       "['how', 'many', 'yeras', 'old', 'was', 'christopher', 'rodriguez', '?']"
      ]
     },
     "execution_count": 24,
     "metadata": {},
     "output_type": "execute_result"
    }
   ],
   "source": [
    "s[2]"
   ]
  },
  {
   "cell_type": "markdown",
   "id": "9fd34d86-d4cd-4d94-9aea-b3fb5e940294",
   "metadata": {},
   "source": [
    "## Paraphrase all of the questions"
   ]
  },
  {
   "cell_type": "code",
   "execution_count": 28,
   "id": "f1656e82-b270-4f2d-ae81-28cdc75221ee",
   "metadata": {
    "execution": {
     "iopub.execute_input": "2021-05-03T03:10:25.553625Z",
     "iopub.status.busy": "2021-05-03T03:10:25.553368Z",
     "iopub.status.idle": "2021-05-03T03:13:35.069943Z",
     "shell.execute_reply": "2021-05-03T03:13:35.069103Z",
     "shell.execute_reply.started": "2021-05-03T03:10:25.553599Z"
    },
    "tags": []
   },
   "outputs": [
    {
     "name": "stdout",
     "output_type": "stream",
     "text": [
      "what was the amount of children murdered ? What was the number of murdered children?\n",
      "where was michael strank born ? where was michael drink born?\n",
      "who was among the six who raised the flag in iwo jima ? Who was among the six who hoisted the flag in Iwo Jima?\n",
      "what happened in chad what happened in chad\n",
      "what did gerrard admit doing ? What did Gerrard admit?\n",
      "who is calling for the official 's resignation ? Who is calling for the civil servant to resign?\n",
      "who says \" why he is a saint : the true story of john paul ii \" ? who says \"why he is a saint: the true story of john paul ii\"?\n",
      "how many flights were affects ? How many flights were affected?\n",
      "what do his tweets talk about ? What are his tweets talking about?\n",
      "census bureaus are hiring people from where ? Where do census offices hire people?\n"
     ]
    }
   ],
   "source": [
    "new_samples: List[Tuple] = []\n",
    "for jdx, s in enumerate(train_dataset.samples[:100]):\n",
    "    new_sample = list(s)\n",
    "    q = ' '.join(s[2])\n",
    "    backtrans = backtranslate(q, en2de, de2en)\n",
    "    \n",
    "    if jdx % 10 == 0:\n",
    "        print(q,backtrans)\n",
    "    \n",
    "    new_sample[2] = backtrans.split()\n",
    "    \n",
    "    new_samples.append(new_sample)"
   ]
  },
  {
   "cell_type": "code",
   "execution_count": null,
   "id": "87ab6f45-89ff-43e7-9336-7e3f8416160a",
   "metadata": {},
   "outputs": [],
   "source": [
    "backtranslate(' '.join(sample[1]), en2de, de2en)"
   ]
  },
  {
   "cell_type": "code",
   "execution_count": 42,
   "id": "7039edec-7364-49b1-aa41-65d94cc5cf9a",
   "metadata": {
    "execution": {
     "iopub.execute_input": "2021-05-03T03:56:17.241617Z",
     "iopub.status.busy": "2021-05-03T03:56:17.241402Z",
     "iopub.status.idle": "2021-05-03T03:56:17.362960Z",
     "shell.execute_reply": "2021-05-03T03:56:17.361441Z",
     "shell.execute_reply.started": "2021-05-03T03:56:17.241596Z"
    },
    "tags": []
   },
   "outputs": [],
   "source": [
    "def backtranslate_questions(train_dataset,  batch_size, forward_translate, backward_translate, n=None):\n",
    "    start = time.time()\n",
    "    new_samples: List[Tuple] = []\n",
    "    if n is None:\n",
    "        n = len(train_dataset.samples)\n",
    "    for batch_start in range(0, len(train_dataset.samples[:n]), batch_size):\n",
    "        \n",
    "    \n",
    "        \n",
    "        # build a batch as a list\n",
    "        batch = []\n",
    "        batched_questions = []\n",
    "        for s in train_dataset.samples[batch_start:batch_start + batch_size]:\n",
    "            batched_questions.append(' '.join(s[2]))\n",
    "            batch.append(list(s))\n",
    "\n",
    "        batched_backtrans_qs = backtranslate(batched_questions, forward_translate, backward_translate)\n",
    "\n",
    "\n",
    "        for backtrans_q, new_sample in zip(batched_backtrans_qs, batch):\n",
    "            new_sample[2] = backtrans_q.split()\n",
    "            new_sample = tuple(new_sample)\n",
    "        new_samples += batch\n",
    "    #print(batch_start, time.time()-start)\n",
    "    return new_samples"
   ]
  },
  {
   "cell_type": "code",
   "execution_count": 31,
   "id": "e89d2194-341b-4117-85e1-ca09aca5e71d",
   "metadata": {
    "execution": {
     "iopub.execute_input": "2021-05-03T03:20:42.445904Z",
     "iopub.status.busy": "2021-05-03T03:20:42.445631Z",
     "iopub.status.idle": "2021-05-03T03:20:42.553801Z",
     "shell.execute_reply": "2021-05-03T03:20:42.551062Z",
     "shell.execute_reply.started": "2021-05-03T03:20:42.445878Z"
    },
    "tags": []
   },
   "outputs": [
    {
     "data": {
      "text/plain": [
       "list"
      ]
     },
     "execution_count": 31,
     "metadata": {},
     "output_type": "execute_result"
    }
   ],
   "source": [
    "train_dataset.samples[10:10+3]"
   ]
  },
  {
   "cell_type": "code",
   "execution_count": 43,
   "id": "1398041e-6305-4354-a4e6-67c041f885e5",
   "metadata": {
    "execution": {
     "iopub.execute_input": "2021-05-03T03:56:22.427810Z",
     "iopub.status.busy": "2021-05-03T03:56:22.427485Z",
     "iopub.status.idle": "2021-05-03T03:58:39.680978Z",
     "shell.execute_reply": "2021-05-03T03:58:39.678156Z",
     "shell.execute_reply.started": "2021-05-03T03:56:22.427776Z"
    },
    "tags": []
   },
   "outputs": [
    {
     "name": "stdout",
     "output_type": "stream",
     "text": [
      "100 137.18489980697632\n"
     ]
    }
   ],
   "source": [
    "new_samples = backtranslate_questions(train_dataset, batch_size=100, forward_translate=en2de, backward_translate=de2en, n=200)"
   ]
  },
  {
   "cell_type": "code",
   "execution_count": 51,
   "id": "bdf68f99-5923-4e7a-84a1-9ca2dc9fcfbd",
   "metadata": {
    "execution": {
     "iopub.execute_input": "2021-05-03T04:01:42.065795Z",
     "iopub.status.busy": "2021-05-03T04:01:42.065530Z",
     "iopub.status.idle": "2021-05-03T04:01:42.175851Z",
     "shell.execute_reply": "2021-05-03T04:01:42.173053Z",
     "shell.execute_reply.started": "2021-05-03T04:01:42.065770Z"
    },
    "tags": []
   },
   "outputs": [
    {
     "data": {
      "text/plain": [
       "195"
      ]
     },
     "execution_count": 51,
     "metadata": {},
     "output_type": "execute_result"
    }
   ],
   "source": [
    "new_questions = 0\n",
    "for i in range(len(new_samples)):\n",
    "    if new_samples[i][2] != train_dataset.samples[i][2]:\n",
    "        new_questions +=1\n",
    "new_questions"
   ]
  },
  {
   "cell_type": "code",
   "execution_count": 85,
   "id": "cdf1682e-84f1-4160-b517-23c16abe15a4",
   "metadata": {
    "execution": {
     "iopub.execute_input": "2021-05-03T04:51:53.940687Z",
     "iopub.status.busy": "2021-05-03T04:51:53.940481Z",
     "iopub.status.idle": "2021-05-03T04:51:54.028173Z",
     "shell.execute_reply": "2021-05-03T04:51:54.027138Z",
     "shell.execute_reply.started": "2021-05-03T04:51:53.940666Z"
    },
    "tags": []
   },
   "outputs": [],
   "source": [
    "def backtranslate_answers(train_dataset,  batch_size, forward_translate, backward_translate, n=None):\n",
    "    start = time.time()\n",
    "    new_samples: List[Tuple] = []\n",
    "    if n is None:\n",
    "        n = len(train_dataset.samples)\n",
    "    for batch_start in range(0, len(train_dataset.samples[:n]), batch_size):\n",
    "        \n",
    "        # build a batch as a list\n",
    "        batch = []\n",
    "        batched_answers = []\n",
    "        for s in train_dataset.samples[batch_start:batch_start + batch_size]:\n",
    "            \n",
    "            batched_answers.append(' '.join(s['passage'][s['start']:s['end']+1]))\n",
    "            batch.append(list(s))\n",
    "\n",
    "        batched_backtrans_as = backtranslate(batched_answers, forward_translate, backward_translate)\n",
    "\n",
    "\n",
    "        for backtrans_a, new_sample in zip(batched_backtrans_as, batch):\n",
    "            # we need to pop the tokens in the original answer from the passage\n",
    "            # and insert the new tokens.\n",
    "            span_start = new_sample[3]\n",
    "            span_end = new_sample[4]\n",
    "            del new_sample[1][span_start:span_end+1]\n",
    "            new_sample[1][span_start:span_start] = backtrans_a.split()\n",
    "            list.insert()\n",
    "            # if length of backtranslation is different from length of original answer\n",
    "            # we also need to adjust the span end \n",
    "            if len(backtrans_a) == span_end-span_start:\n",
    "                pass\n",
    "            # else we need to adjust the end span\n",
    "            else:\n",
    "                new_sample[4] = span_start + len(backtrans_a.split())\n",
    "\n",
    "            new_sample = tuple(new_sample)\n",
    "        new_samples += batch\n",
    "    #print(batch_start, time.time()-start)\n",
    "    return new_samples"
   ]
  },
  {
   "cell_type": "code",
   "execution_count": null,
   "id": "7a4ba832-684a-45c3-abe4-cb3a24558e9b",
   "metadata": {},
   "outputs": [],
   "source": [
    "def backtranslate_passsage(train_dataset,  batch_size, forward_translate, backward_translate, n=None):\n",
    "    start = time.time()\n",
    "    new_samples: List[Tuple] = []\n",
    "    if n is None:\n",
    "        n = len(train_dataset.samples)\n",
    "    for batch_start in range(0, len(train_dataset.samples[:n]), batch_size):\n",
    "        \n",
    "        # build a batch as a list\n",
    "        batch = []\n",
    "        batched_answers = []\n",
    "        for s in train_dataset.samples[batch_start:batch_start + batch_size]:\n",
    "            sent_start = some_fun(start_token)\n",
    "            sent_end = some_fn(end_token)\n",
    "            batched_passage_start.append(' '.join(s['passage'][:sent_start])\n",
    "            batched_passage_end.append(' '.join(s['passage'][sent_end:])                                                  \n",
    "            batch.append(list(s))\n",
    "\n",
    "        batched_backtrans_front = backtranslate(batched_passage_start, forward_translate, backward_translate)\n",
    "         batched_backtrans_end = backtranslate(batched_passage_end, forward_translate, backward_translate)\n",
    "                                       \n",
    "        passage = front + sent_with_answer + end\n",
    "\n",
    "\n",
    "        for backtrans_a, new_sample in zip(batched_backtrans_as, batch):\n",
    "            # we need to pop the tokens in the original answer from the passage\n",
    "            # and insert the new tokens.\n",
    "            span_start = new_sample[3]\n",
    "            span_end = new_sample[4]\n",
    "            del new_sample[1][span_start:span_end+1]\n",
    "            new_sample[1][span_start:span_start] = backtrans_a.split()\n",
    "            list.insert()\n",
    "            # if length of backtranslation is different from length of original answer\n",
    "            # we also need to adjust the span end \n",
    "            if len(backtrans_a) == span_end-span_start:\n",
    "                pass\n",
    "            # else we need to adjust the end span\n",
    "            else:\n",
    "                new_sample[4] = span_start + len(backtrans_a.split())\n",
    "\n",
    "            new_sample = tuple(new_sample)\n",
    "        new_samples += batch\n",
    "    #print(batch_start, time.time()-start)\n",
    "    return new_samples"
   ]
  },
  {
   "cell_type": "code",
   "execution_count": 86,
   "id": "011f304a-ed33-41f0-88e4-ae55aecf215e",
   "metadata": {
    "execution": {
     "iopub.execute_input": "2021-05-03T04:51:55.446620Z",
     "iopub.status.busy": "2021-05-03T04:51:55.446280Z",
     "iopub.status.idle": "2021-05-03T04:51:57.718117Z",
     "shell.execute_reply": "2021-05-03T04:51:57.717309Z",
     "shell.execute_reply.started": "2021-05-03T04:51:55.446585Z"
    },
    "tags": []
   },
   "outputs": [],
   "source": [
    "new_answers = backtranslate_answers(train_dataset, 2, en2de, de2en, 4)"
   ]
  },
  {
   "cell_type": "code",
   "execution_count": 87,
   "id": "f372c018-4a11-49ed-95a0-aaf85938fcf4",
   "metadata": {
    "execution": {
     "iopub.execute_input": "2021-05-03T04:51:59.252313Z",
     "iopub.status.busy": "2021-05-03T04:51:59.251984Z",
     "iopub.status.idle": "2021-05-03T04:51:59.333002Z",
     "shell.execute_reply": "2021-05-03T04:51:59.320263Z",
     "shell.execute_reply.started": "2021-05-03T04:51:59.252279Z"
    },
    "tags": []
   },
   "outputs": [
    {
     "data": {
      "text/plain": [
       "(61, 60)"
      ]
     },
     "execution_count": 87,
     "metadata": {},
     "output_type": "execute_result"
    }
   ],
   "source": [
    "new_answers[0][4], train_dataset.samples[0][4]"
   ]
  },
  {
   "cell_type": "code",
   "execution_count": 94,
   "id": "4364b520-db4f-438c-bad9-f5629840fa3c",
   "metadata": {
    "execution": {
     "iopub.execute_input": "2021-05-03T04:52:16.099402Z",
     "iopub.status.busy": "2021-05-03T04:52:16.099059Z",
     "iopub.status.idle": "2021-05-03T04:52:16.167128Z",
     "shell.execute_reply": "2021-05-03T04:52:16.166222Z",
     "shell.execute_reply.started": "2021-05-03T04:52:16.099368Z"
    },
    "tags": []
   },
   "outputs": [],
   "source": [
    "sample_num = 3"
   ]
  },
  {
   "cell_type": "code",
   "execution_count": 95,
   "id": "638283ae-28d5-4932-84ca-62425b3ea09e",
   "metadata": {
    "execution": {
     "iopub.execute_input": "2021-05-03T04:52:16.503284Z",
     "iopub.status.busy": "2021-05-03T04:52:16.502687Z",
     "iopub.status.idle": "2021-05-03T04:52:16.553458Z",
     "shell.execute_reply": "2021-05-03T04:52:16.551320Z",
     "shell.execute_reply.started": "2021-05-03T04:52:16.503245Z"
    },
    "tags": []
   },
   "outputs": [
    {
     "data": {
      "text/plain": [
       "(['Moninder', 'Singh', 'sentenced'], ['Moninder', 'Singh'])"
      ]
     },
     "execution_count": 95,
     "metadata": {},
     "output_type": "execute_result"
    }
   ],
   "source": [
    "new_answers[sample_num][1][new_answers[sample_num][3]:new_answers[sample_num][4]], train_dataset.samples[sample_num][1][train_dataset.samples[sample_num][3]:train_dataset.samples[sample_num][4]]"
   ]
  },
  {
   "cell_type": "code",
   "execution_count": 59,
   "id": "3e5faa65-41fd-4072-b2b9-af275ca5b025",
   "metadata": {
    "execution": {
     "iopub.execute_input": "2021-05-03T04:43:11.209282Z",
     "iopub.status.busy": "2021-05-03T04:43:11.209046Z",
     "iopub.status.idle": "2021-05-03T04:43:11.276742Z",
     "shell.execute_reply": "2021-05-03T04:43:11.275267Z",
     "shell.execute_reply.started": "2021-05-03T04:43:11.209260Z"
    },
    "tags": []
   },
   "outputs": [
    {
     "data": {
      "text/plain": [
       "0"
      ]
     },
     "execution_count": 59,
     "metadata": {},
     "output_type": "execute_result"
    }
   ],
   "source": [
    "new_a = 0\n",
    "for i in range(len(new_answers)):\n",
    "    if new_samples[i][4] != train_dataset.samples[i][4]:\n",
    "        new_a +=1\n",
    "new_a"
   ]
  },
  {
   "cell_type": "code",
   "execution_count": 52,
   "id": "460615bc-9e8c-49d4-b3a0-129a1977a189",
   "metadata": {
    "execution": {
     "iopub.execute_input": "2021-05-03T04:37:02.578461Z",
     "iopub.status.busy": "2021-05-03T04:37:02.578222Z",
     "iopub.status.idle": "2021-05-03T04:37:02.644168Z",
     "shell.execute_reply": "2021-05-03T04:37:02.643328Z",
     "shell.execute_reply.started": "2021-05-03T04:37:02.578437Z"
    }
   },
   "outputs": [],
   "source": [
    "test = ['a','b','c','d','e','f','g']"
   ]
  },
  {
   "cell_type": "code",
   "execution_count": 53,
   "id": "42d9c242-2718-4952-a6fe-c03d7c08d445",
   "metadata": {
    "execution": {
     "iopub.execute_input": "2021-05-03T04:38:42.332089Z",
     "iopub.status.busy": "2021-05-03T04:38:42.331736Z",
     "iopub.status.idle": "2021-05-03T04:38:42.376656Z",
     "shell.execute_reply": "2021-05-03T04:38:42.375563Z",
     "shell.execute_reply.started": "2021-05-03T04:38:42.332053Z"
    }
   },
   "outputs": [
    {
     "data": {
      "text/plain": [
       "['a', 'b', 'c', 'g']"
      ]
     },
     "execution_count": 53,
     "metadata": {},
     "output_type": "execute_result"
    }
   ],
   "source": [
    "del test[3:6]\n",
    "test"
   ]
  },
  {
   "cell_type": "code",
   "execution_count": 67,
   "id": "4e8a5d42-ee18-4246-af94-4a625b4fe01b",
   "metadata": {
    "execution": {
     "iopub.execute_input": "2021-05-03T04:45:23.387065Z",
     "iopub.status.busy": "2021-05-03T04:45:23.386823Z",
     "iopub.status.idle": "2021-05-03T04:45:23.427645Z",
     "shell.execute_reply": "2021-05-03T04:45:23.425690Z",
     "shell.execute_reply.started": "2021-05-03T04:45:23.387041Z"
    }
   },
   "outputs": [
    {
     "data": {
      "text/plain": [
       "['a', 'b', 'c', 'z', 'x', 'g']"
      ]
     },
     "execution_count": 67,
     "metadata": {},
     "output_type": "execute_result"
    }
   ],
   "source": [
    "test[3:3] = ['z','x']\n",
    "test"
   ]
  },
  {
   "cell_type": "code",
   "execution_count": null,
   "id": "22250598-74d5-47d6-955b-9727f5808c33",
   "metadata": {},
   "outputs": [],
   "source": []
  }
 ],
 "metadata": {
  "kernelspec": {
   "display_name": "Python 3",
   "language": "python",
   "name": "python3"
  },
  "language_info": {
   "codemirror_mode": {
    "name": "ipython",
    "version": 3
   },
   "file_extension": ".py",
   "mimetype": "text/x-python",
   "name": "python",
   "nbconvert_exporter": "python",
   "pygments_lexer": "ipython3",
   "version": "3.9.4"
  }
 },
 "nbformat": 4,
 "nbformat_minor": 5
}
